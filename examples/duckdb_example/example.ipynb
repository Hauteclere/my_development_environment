{
 "cells": [
  {
   "cell_type": "code",
   "execution_count": 8,
   "id": "9fa58682",
   "metadata": {},
   "outputs": [],
   "source": [
    "import duckdb\n",
    "\n",
    "con = duckdb.connect(\"./.duckdb\")"
   ]
  },
  {
   "cell_type": "code",
   "execution_count": 12,
   "id": "d4895c4b",
   "metadata": {},
   "outputs": [
    {
     "data": {
      "text/plain": [
       "┌───────┬─────────┬───────┐\n",
       "│  id   │  name   │  age  │\n",
       "│ int64 │ varchar │ int64 │\n",
       "├───────┼─────────┼───────┤\n",
       "│     1 │ Alice   │    25 │\n",
       "│     2 │ Bob     │    30 │\n",
       "│     3 │ Charlie │    35 │\n",
       "└───────┴─────────┴───────┘"
      ]
     },
     "execution_count": 12,
     "metadata": {},
     "output_type": "execute_result"
    }
   ],
   "source": [
    "# Visualise data...\n",
    "\n",
    "con.query(\"SELECT * FROM read_csv('./data/file1.csv');\")"
   ]
  },
  {
   "cell_type": "code",
   "execution_count": 13,
   "id": "11dd2ca3",
   "metadata": {},
   "outputs": [
    {
     "data": {
      "text/plain": [
       "┌───────────┬─────────────┬────────────┐\n",
       "│ person_id │ person_name │ person_age │\n",
       "│   int64   │   varchar   │   int64    │\n",
       "├───────────┼─────────────┼────────────┤\n",
       "│         1 │ Alice       │         25 │\n",
       "│         2 │ Bob         │         30 │\n",
       "│         3 │ Charlie     │         35 │\n",
       "└───────────┴─────────────┴────────────┘"
      ]
     },
     "execution_count": 13,
     "metadata": {},
     "output_type": "execute_result"
    }
   ],
   "source": [
    "# Visualise data...\n",
    "\n",
    "con.query(\"SELECT * FROM read_csv('./data/file2.csv');\")"
   ]
  },
  {
   "cell_type": "code",
   "execution_count": null,
   "id": "e4470af2",
   "metadata": {},
   "outputs": [],
   "source": [
    "# Use SQL queries to build one or more output tables\n",
    "\n",
    "con.query(\"\"\"\n",
    "CREATE TABLE results AS\n",
    "    SELECT \n",
    "        id,\n",
    "        name,\n",
    "        age\n",
    "    FROM read_csv('./data/file1.csv')\n",
    "    UNION ALL\n",
    "    SELECT \n",
    "        person_id as id,\n",
    "        person_name as name,\n",
    "        person_age as age\n",
    "    FROM read_csv('./data/file2.csv');\n",
    "\"\"\")"
   ]
  },
  {
   "cell_type": "code",
   "execution_count": 11,
   "id": "98143afe",
   "metadata": {},
   "outputs": [
    {
     "data": {
      "text/plain": [
       "┌───────┬─────────┬───────┐\n",
       "│  id   │  name   │  age  │\n",
       "│ int64 │ varchar │ int64 │\n",
       "├───────┼─────────┼───────┤\n",
       "│     1 │ Alice   │    25 │\n",
       "│     2 │ Bob     │    30 │\n",
       "│     3 │ Charlie │    35 │\n",
       "│     1 │ Alice   │    25 │\n",
       "│     2 │ Bob     │    30 │\n",
       "│     3 │ Charlie │    35 │\n",
       "└───────┴─────────┴───────┘"
      ]
     },
     "execution_count": 11,
     "metadata": {},
     "output_type": "execute_result"
    }
   ],
   "source": [
    "# Looks good!\n",
    "\n",
    "con.query(\"SELECT * FROM results\")"
   ]
  },
  {
   "cell_type": "code",
   "execution_count": 14,
   "id": "00e5cc38",
   "metadata": {},
   "outputs": [],
   "source": [
    "# Output results\n",
    "\n",
    "con.query(\"COPY results to './data/results.csv' (HEADER, DELIMITER ',');\")"
   ]
  }
 ],
 "metadata": {
  "kernelspec": {
   "display_name": ".venv",
   "language": "python",
   "name": "python3"
  },
  "language_info": {
   "codemirror_mode": {
    "name": "ipython",
    "version": 3
   },
   "file_extension": ".py",
   "mimetype": "text/x-python",
   "name": "python",
   "nbconvert_exporter": "python",
   "pygments_lexer": "ipython3",
   "version": "3.13.0"
  }
 },
 "nbformat": 4,
 "nbformat_minor": 5
}
